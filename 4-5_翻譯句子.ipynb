{
  "nbformat": 4,
  "nbformat_minor": 0,
  "metadata": {
    "colab": {
      "name": "你好，Colaboratory",
      "version": "0.3.2",
      "provenance": [],
      "collapsed_sections": []
    },
    "kernelspec": {
      "display_name": "Python 3",
      "name": "python3"
    }
  },
  "cells": [
    {
      "metadata": {
        "id": "5fGG3wI5uKVT",
        "colab_type": "code",
        "colab": {}
      },
      "cell_type": "code",
      "source": [
        "from mtranslate import translate\n",
        "import pandas as pd\n",
        "import numpy as np \n",
        "\n",
        "df=pd.read_excel('before.xlsx')\n",
        "    df=df.fillna('nan')\n",
        "    \n",
        "    T1=[]\n",
        "    for i in range(len(df)):\n",
        "        if df.iloc[i]['每日句子1'] != 'nan':\n",
        "            T1.append(translate(df.iloc[i]['每日句子1'],'zh-TW'))\n",
        "        else:\n",
        "            T1.append('')\n",
        "    T2=[]\n",
        "    for i in range(len(df)):\n",
        "        if df.iloc[i]['每日句子2'] != 'nan':\n",
        "            T2.append(translate(df.iloc[i]['每日句子2'],'zh-TW'))\n",
        "        else:\n",
        "            T2.append('')\n",
        "    T3=[]\n",
        "    for i in range(len(df)):\n",
        "        if df.iloc[i]['每日句子3'] != 'nan':\n",
        "            T3.append(translate(df.iloc[i]['每日句子3'],'zh-TW'))\n",
        "        else:\n",
        "            T3.append('')\n",
        "    T4=[]\n",
        "    for i in range(len(df)):\n",
        "        if df.iloc[i]['每日句子4'] != 'nan':\n",
        "            T4.append(translate(df.iloc[i]['每日句子4'],'zh-TW'))\n",
        "        else:\n",
        "            T4.append('')\n",
        "    T5=[]\n",
        "    for i in range(len(df)):\n",
        "        if df.iloc[i]['每日句子5'] != 'nan':\n",
        "            T5.append(translate(df.iloc[i]['每日句子5'],'zh-TW'))\n",
        "        else:\n",
        "            T5.append('')\n",
        "    df['翻譯句子1']=T1\n",
        "    df['翻譯句子2']=T2\n",
        "    df['翻譯句子3']=T3\n",
        "    df['翻譯句子4']=T4\n",
        "    df['翻譯句子5']=T5\n",
        "    df.to_excel('aftertranslate.xlsx')\n",
        "    print('done')"
      ],
      "execution_count": 0,
      "outputs": []
    },
    {
      "metadata": {
        "id": "xIkn6IUiuO2J",
        "colab_type": "code",
        "colab": {}
      },
      "cell_type": "code",
      "source": [
        ""
      ],
      "execution_count": 0,
      "outputs": []
    }
  ]
}